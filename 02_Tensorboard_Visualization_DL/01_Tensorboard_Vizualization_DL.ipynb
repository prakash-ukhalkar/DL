{
 "cells": [
  {
   "cell_type": "markdown",
   "metadata": {},
   "source": [
    "### **TensorBoard Introduction using MNIST Handwritten Digits Classification**"
   ]
  },
  {
   "cell_type": "markdown",
   "metadata": {},
   "source": [
    "* This notebook will demonstrate how to use TensorBoard to visualize the training process of a neural network. \n",
    "\n",
    "* We will train a model on the classic [MNIST dataset of handwritten digits](https://www.tensorflow.org/datasets/catalog/mnist), which is a perfect real-world example for beginners in computer vision and machine learning."
   ]
  },
  {
   "cell_type": "markdown",
   "metadata": {},
   "source": [
    "#### **What are Callbacks?**\n",
    "\n",
    "* Before we begin, it is crucial to understand callbacks. \n",
    "\n",
    "* Callbacks are special functions in Keras that are executed at different stages of the training process, such as at the beginning or end of an epoch or a batch. \n",
    "\n",
    "* They are a powerful mechanism for customizing the behavior of your model during training without modifying the model's code itself.\n",
    "\n",
    "* TensorBoard relies on a specific callback, `tf.keras.callbacks.TensorBoard`, to automatically log events and data that the tool can then visualize. \n",
    "\n",
    "* This callback enables you to track metrics like `loss` and `accuracy`, visualize the `model graph`, and even see how weights and biases change over time.\n",
    "\n",
    "* The `TensorBoard` callback has several key parameters:\n",
    "\n",
    "  * `log_dir`: Specifies the directory where the logs will be stored. It's a good practice to use a timestamped directory to organize different training runs.\n",
    "\n",
    "  * `histogram_freq`: Controls how often to compute histograms of the model's weights, biases, and activations. Setting it to 1, for instance, will log these histograms every epoch.\n",
    "\n",
    "  * `write_graph`: If set to `True`, it visualizes the model architecture in TensorBoard's \"Graphs\" tab.\n",
    "\n",
    "  * `write_images`: If set to `True`, it can visualize model weights as images.\n",
    "\n",
    "---"
   ]
  },
  {
   "cell_type": "markdown",
   "metadata": {},
   "source": [
    "#### 1. Setup and Data Loading\n",
    "\n",
    "* We'll start by importing the necessary libraries and loading the MNIST dataset. \n",
    "\n",
    "* The MNIST database contains 60,000 training images and 10,000 testing images of handwritten digits (0-9)."
   ]
  },
  {
   "cell_type": "code",
   "execution_count": 11,
   "metadata": {},
   "outputs": [],
   "source": [
    "# Import necessary libraries\n",
    "import tensorflow as tf\n",
    "from tensorflow import keras\n",
    "from datetime import datetime\n",
    "import numpy as np\n",
    "import matplotlib.pyplot as plt\n",
    "%matplotlib inline"
   ]
  },
  {
   "cell_type": "code",
   "execution_count": 12,
   "metadata": {},
   "outputs": [],
   "source": [
    "# Load the MNIST dataset and split into training and testing sets\n",
    "(X_train, y_train), (X_test, y_test) = keras.datasets.mnist.load_data()"
   ]
  },
  {
   "cell_type": "code",
   "execution_count": 13,
   "metadata": {},
   "outputs": [
    {
     "data": {
      "text/plain": [
       "((60000, 28, 28), (60000,), (10000, 28, 28), (10000,))"
      ]
     },
     "execution_count": 13,
     "metadata": {},
     "output_type": "execute_result"
    }
   ],
   "source": [
    "# Display the shapes of the datasets\n",
    "X_train.shape, y_train.shape, X_test.shape, y_test.shape"
   ]
  },
  {
   "cell_type": "code",
   "execution_count": 14,
   "metadata": {},
   "outputs": [
    {
     "data": {
      "text/plain": [
       "Text(0.5, 1.0, 'Label: 5')"
      ]
     },
     "execution_count": 14,
     "metadata": {},
     "output_type": "execute_result"
    },
    {
     "data": {
      "image/png": "[encoded data removed]",
      "text/plain": [
       "<Figure size 480x480 with 1 Axes>"
      ]
     },
     "metadata": {},
     "output_type": "display_data"
    }
   ],
   "source": [
    "# Visualize the first training image and its label\n",
    "plt.matshow(X_train[0])\n",
    "plt.title(f\"Label: {y_train[0]}\")"
   ]
  },
  {
   "cell_type": "markdown",
   "metadata": {},
   "source": [
    "#### 2. Data Preprocessing\n",
    "\n",
    "* The MNIST images are `28x28` pixels with grayscale values from `0` to `255`. \n",
    "\n",
    "* We need to normalize these pixel values to be between `0` and `1` for optimal model performance. \n",
    "\n",
    "* We will also reshape the data to a `1D vector` (784 features) since our simple model expects a flat input."
   ]
  },
  {
   "cell_type": "code",
   "execution_count": 15,
   "metadata": {},
   "outputs": [],
   "source": [
    "# Data Preprocessing\n",
    "X_train = X_train / 255.0\n",
    "X_test = X_test / 255.0\n",
    "\n",
    "# Reshape the data to a 1D vector (784 features)\n",
    "X_train_flattened = X_train.reshape(len(X_train), 28*28)\n",
    "X_test_flattened = X_test.reshape(len(X_test), 28*28)"
   ]
  },
  {
   "cell_type": "code",
   "execution_count": 16,
   "metadata": {},
   "outputs": [
    {
     "data": {
      "text/plain": [
       "((60000, 784), (60000,), (10000, 784), (10000,))"
      ]
     },
     "execution_count": 16,
     "metadata": {},
     "output_type": "execute_result"
    }
   ],
   "source": [
    "# Display the shapes of the datasets after flattening\n",
    "X_train_flattened.shape, y_train.shape, X_test_flattened.shape, y_test.shape"
   ]
  },
  {
   "cell_type": "markdown",
   "metadata": {},
   "source": [
    "#### 3. Building the Neural Network Model\n",
    "\n",
    "* We will create a simple `Sequential` model with one hidden layer. \n",
    "\n",
    "* The `Flatten` layer is a convenient way to automatically convert our 28x28 image input into a 1D array, eliminating the need for manual reshaping. \n",
    "\n",
    "* We'll then add a `Dense` hidden layer with 100 neurons and a final `Dense` output layer with 10 neurons, one for each digit class."
   ]
  },
  {
   "cell_type": "code",
   "execution_count": 17,
   "metadata": {},
   "outputs": [],
   "source": [
    "model = keras.Sequential([\n",
    "    keras.layers.Flatten(input_shape=(28, 28)),\n",
    "    keras.layers.Dense(100, activation='relu'),\n",
    "    keras.layers.Dense(10, activation='sigmoid')\n",
    "])"
   ]
  },
  {
   "cell_type": "markdown",
   "metadata": {},
   "source": [
    "#### 4. Compiling the Model and Setting up the TensorBoard Callback\n",
    "\n",
    "* We compile the model with an `adam` optimizer and `sparse_categorical_crossentropy` loss. \n",
    "\n",
    "* We also define our `TensorBoard` callback, specifying the log directory and `histogram_freq=1` to log weight and bias distributions every epoch."
   ]
  },
  {
   "cell_type": "code",
   "execution_count": 22,
   "metadata": {},
   "outputs": [],
   "source": [
    "# Compiling the Model and Setting up the TensorBoard Callback\n",
    "model.compile(optimizer='adam',\n",
    "              loss='sparse_categorical_crossentropy',\n",
    "              metrics=['accuracy'])\n",
    "\n",
    "# Define log directory for TensorBoard with timestamp\n",
    "log_dir = \"logs/fit/\" + datetime.now().strftime(\"%Y%m%d-%H%M%S\")\n",
    "\n",
    "# Set up TensorBoard callback\n",
    "tb_callback = tf.keras.callbacks.TensorBoard(log_dir=log_dir, histogram_freq=1, write_graph=True, write_images=True)"
   ]
  },
  {
   "cell_type": "markdown",
   "metadata": {},
   "source": [
    "#### 5. Training the Model with the TensorBoard Callback\n",
    "\n",
    "* Finally, we train the model and pass our `tb_callback` to the `callbacks` argument of the `model.fit` method. \n",
    "\n",
    "* This will automatically generate the logs TensorBoard needs."
   ]
  },
  {
   "cell_type": "code",
   "execution_count": 23,
   "metadata": {},
   "outputs": [
    {
     "name": "stdout",
     "output_type": "stream",
     "text": [
      "Epoch 1/5\n",
      "\u001b[1m1875/1875\u001b[0m \u001b[32m━━━━━━━━━━━━━━━━━━━━\u001b[0m\u001b[37m\u001b[0m \u001b[1m7s\u001b[0m 3ms/step - accuracy: 0.9951 - loss: 0.0165 - val_accuracy: 0.9792 - val_loss: 0.0783\n",
      "Epoch 2/5\n",
      "\u001b[1m1875/1875\u001b[0m \u001b[32m━━━━━━━━━━━━━━━━━━━━\u001b[0m\u001b[37m\u001b[0m \u001b[1m7s\u001b[0m 4ms/step - accuracy: 0.9955 - loss: 0.0149 - val_accuracy: 0.9770 - val_loss: 0.0841\n",
      "Epoch 3/5\n",
      "\u001b[1m1875/1875\u001b[0m \u001b[32m━━━━━━━━━━━━━━━━━━━━\u001b[0m\u001b[37m\u001b[0m \u001b[1m6s\u001b[0m 3ms/step - accuracy: 0.9969 - loss: 0.0110 - val_accuracy: 0.9796 - val_loss: 0.0814\n",
      "Epoch 4/5\n",
      "\u001b[1m1875/1875\u001b[0m \u001b[32m━━━━━━━━━━━━━━━━━━━━\u001b[0m\u001b[37m\u001b[0m \u001b[1m5s\u001b[0m 3ms/step - accuracy: 0.9967 - loss: 0.0109 - val_accuracy: 0.9781 - val_loss: 0.0873\n",
      "Epoch 5/5\n",
      "\u001b[1m1875/1875\u001b[0m \u001b[32m━━━━━━━━━━━━━━━━━━━━\u001b[0m\u001b[37m\u001b[0m \u001b[1m8s\u001b[0m 4ms/step - accuracy: 0.9973 - loss: 0.0090 - val_accuracy: 0.9769 - val_loss: 0.0976\n"
     ]
    }
   ],
   "source": [
    "# Training the Model with the TensorBoard Callback and Logging\n",
    "# Store training history in a variable for potential future use \n",
    "history = model.fit(X_train, y_train, epochs=5, validation_data=(X_test, y_test), callbacks=[tb_callback])"
   ]
  },
  {
   "cell_type": "markdown",
   "metadata": {},
   "source": [
    "#### Summary\n",
    "\n",
    "* Based on the training log, here are the key insights into the model's performance:\n",
    "\n",
    "  * **Excellent Training Performance**: The model learns very effectively on the training data. \n",
    "    * The training accuracy starts high at 99.51% in the first epoch and steadily improves to 99.73% by the fifth epoch. \n",
    "    * Simultaneously, the training loss consistently decreases from 0.0165 to 0.0090, indicating the model is becoming increasingly confident and accurate on the data it has seen.\n",
    "\n",
    "  * **Signs of Overfitting**: \n",
    "    * While the model performs exceptionally well on the training set, its performance on the validation set tells a different story. \n",
    "    * The validation accuracy is high (around 97.7% - 97.9%) but does not show a clear upward trend. \n",
    "    * More importantly, the validation loss increases consistently from 0.0783 in the first epoch to 0.0976 in the final epoch.\n",
    "    * The combination of decreasing training loss and increasing validation loss is a classic indicator of overfitting. \n",
    "\n",
    "* The model is starting to memorize the training data rather than learning to generalize to new, unseen examples. \n",
    "\n",
    "* This suggests that further training beyond the fifth epoch might not improve the model's ability to classify new digits and could even degrade its performance on the validation set. "
   ]
  },
  {
   "cell_type": "markdown",
   "metadata": {},
   "source": [
    "#### 6. Launching TensorBoard\n",
    "\n",
    "* After training, you can launch TensorBoard to view the visualizations. \n",
    "\n",
    "* If you are in a Jupyter Notebook or Google Colab, you can use the magic command below. \n",
    "\n",
    "* Alternatively, you can run `tensorboard --logdir logs/fit` from your terminal."
   ]
  },
  {
   "cell_type": "code",
   "execution_count": null,
   "metadata": {},
   "outputs": [],
   "source": [
    "# Load the TensorBoard notebook extension\n",
    "%load_ext tensorboard\n",
    "\n",
    "# Launch TensorBoard and point it to the log directory\n",
    "%tensorboard --logdir logs/fit"
   ]
  },
  {
   "cell_type": "markdown",
   "metadata": {},
   "source": [
    "---\n"
   ]
  },
  {
   "cell_type": "markdown",
   "metadata": {},
   "source": [
    "*Deep Learning - Python Notebook* by [*Prakash Ukhalkar*](https://github.com/prakash-ukhalkar)"
   ]
  }
 ],
 "metadata": {
  "kernelspec": {
   "display_name": "Python 3",
   "language": "python",
   "name": "python3"
  },
  "language_info": {
   "codemirror_mode": {
    "name": "ipython",
    "version": 3
   },
   "file_extension": ".py",
   "mimetype": "text/x-python",
   "name": "python",
   "nbconvert_exporter": "python",
   "pygments_lexer": "ipython3",
   "version": "3.13.0"
  }
 },
 "nbformat": 4,
 "nbformat_minor": 4
}
